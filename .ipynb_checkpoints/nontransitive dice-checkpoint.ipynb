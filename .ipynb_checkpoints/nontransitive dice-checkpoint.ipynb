{
 "cells": [
  {
   "cell_type": "code",
   "execution_count": 1,
   "metadata": {},
   "outputs": [],
   "source": [
    "import pandas as pd\n",
    "import numpy as np"
   ]
  },
  {
   "cell_type": "code",
   "execution_count": 143,
   "metadata": {},
   "outputs": [],
   "source": [
    "#alphabetical\n",
    "#blue > magenta > olive > red > yellow > blue\n",
    "#2*blue > 2*magenta > 2*olive > 2*red > 2*yellow > 2*blue\n",
    "\n",
    "#word length\n",
    "#red > blue > olive > yellow > magenta > red\n",
    "#2*red > 2*magenta > 2*yellow > 2*olive > 2*blue > 2*red\n",
    "\n",
    "\n",
    "blue = [2, 2, 2, 7, 7, 7]\n",
    "magenta = [1, 1, 6, 6, 6, 6]\n",
    "olive = [0, 5, 5, 5, 5, 5]\n",
    "red = [4, 4, 4, 4, 4, 9]\n",
    "yellow = [3, 3, 3, 3, 8, 8]"
   ]
  },
  {
   "cell_type": "code",
   "execution_count": 144,
   "metadata": {},
   "outputs": [],
   "source": [
    "def ev(dice):\n",
    "    value = 0\n",
    "    for i in dice:\n",
    "        value = value + i/len(dice)\n",
    "    return value"
   ]
  },
  {
   "cell_type": "code",
   "execution_count": 126,
   "metadata": {},
   "outputs": [
    {
     "data": {
      "text/plain": [
       "5.0"
      ]
     },
     "execution_count": 126,
     "metadata": {},
     "output_type": "execute_result"
    }
   ],
   "source": [
    "sum(red)/len(red)"
   ]
  },
  {
   "cell_type": "code",
   "execution_count": 145,
   "metadata": {},
   "outputs": [
    {
     "name": "stdout",
     "output_type": "stream",
     "text": [
      "4.500000000000001\n",
      "4.333333333333333\n",
      "4.166666666666667\n",
      "4.833333333333333\n",
      "4.666666666666666\n"
     ]
    }
   ],
   "source": [
    "print(ev(blue))\n",
    "print(ev(magenta))\n",
    "print(ev(olive))\n",
    "print(ev(red))\n",
    "print(ev(yellow))"
   ]
  },
  {
   "cell_type": "code",
   "execution_count": 154,
   "metadata": {},
   "outputs": [
    {
     "data": {
      "text/plain": [
       "-0.5"
      ]
     },
     "execution_count": 154,
     "metadata": {},
     "output_type": "execute_result"
    }
   ],
   "source": [
    "edge(blue, blue)"
   ]
  },
  {
   "cell_type": "code",
   "execution_count": 127,
   "metadata": {},
   "outputs": [
    {
     "data": {
      "text/plain": [
       "5.0"
      ]
     },
     "execution_count": 127,
     "metadata": {},
     "output_type": "execute_result"
    }
   ],
   "source": [
    "ev(e)"
   ]
  },
  {
   "cell_type": "code",
   "execution_count": 67,
   "metadata": {},
   "outputs": [
    {
     "data": {
      "text/plain": [
       "4.999999999999999"
      ]
     },
     "execution_count": 67,
     "metadata": {},
     "output_type": "execute_result"
    }
   ],
   "source": [
    "ev(b)"
   ]
  },
  {
   "cell_type": "code",
   "execution_count": 68,
   "metadata": {},
   "outputs": [
    {
     "data": {
      "text/plain": [
       "5.000000000000001"
      ]
     },
     "execution_count": 68,
     "metadata": {},
     "output_type": "execute_result"
    }
   ],
   "source": [
    "ev(c)"
   ]
  },
  {
   "cell_type": "code",
   "execution_count": 140,
   "metadata": {},
   "outputs": [],
   "source": [
    "def edge(x, y):\n",
    "    value = 0\n",
    "    count = 0\n",
    "    for i in x:\n",
    "        for a in y:\n",
    "            if i > a:\n",
    "                #print(\"WIN: \", i, \"vs\", a)\n",
    "                value += 1\n",
    "            #else:\n",
    "                #print(\"LOSE: \", i, \"vs\", a)\n",
    "            count += 1\n",
    "    return (2*value-count)/count"
   ]
  },
  {
   "cell_type": "code",
   "execution_count": 142,
   "metadata": {
    "scrolled": true
   },
   "outputs": [
    {
     "data": {
      "text/plain": [
       "0.1111111111111111"
      ]
     },
     "execution_count": 142,
     "metadata": {},
     "output_type": "execute_result"
    }
   ],
   "source": [
    "edge(a,b)"
   ]
  },
  {
   "cell_type": "code",
   "execution_count": null,
   "metadata": {},
   "outputs": [],
   "source": []
  }
 ],
 "metadata": {
  "kernelspec": {
   "display_name": "Python 3",
   "language": "python",
   "name": "python3"
  },
  "language_info": {
   "codemirror_mode": {
    "name": "ipython",
    "version": 3
   },
   "file_extension": ".py",
   "mimetype": "text/x-python",
   "name": "python",
   "nbconvert_exporter": "python",
   "pygments_lexer": "ipython3",
   "version": "3.6.4"
  }
 },
 "nbformat": 4,
 "nbformat_minor": 2
}
